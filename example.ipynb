{
 "cells": [
  {
   "cell_type": "code",
   "execution_count": 1,
   "id": "7bfa1903",
   "metadata": {},
   "outputs": [],
   "source": [
    "from model import ReviewClassifier"
   ]
  },
  {
   "cell_type": "code",
   "execution_count": 2,
   "id": "8bced0d3",
   "metadata": {},
   "outputs": [],
   "source": [
    "sample_review = \"Lake Greers' hidden gem for Mexican cuisine, kid-friendly & accessible\"\n",
    "sample_location = \"Macdonalds in San Francisco, CA. It is a restaurant.\""
   ]
  },
  {
   "cell_type": "code",
   "execution_count": 3,
   "id": "7f247326",
   "metadata": {},
   "outputs": [
    {
     "name": "stderr",
     "output_type": "stream",
     "text": [
      "<All keys matched successfully>\n"
     ]
    }
   ],
   "source": [
    "review_classifier = ReviewClassifier(\n",
    "    model_path=\"model/review_classifier/decoder/mamba_model/mamba_decoder.pt\",\n",
    "    encoder_path=\"model/review_classifier/embedder/nomic_model\"\n",
    ")"
   ]
  },
  {
   "cell_type": "code",
   "execution_count": 4,
   "id": "31911b80",
   "metadata": {},
   "outputs": [],
   "source": [
    "label, confidence = review_classifier.classify(sample_review, sample_location)"
   ]
  },
  {
   "cell_type": "code",
   "execution_count": 5,
   "id": "60956600",
   "metadata": {},
   "outputs": [
    {
     "name": "stdout",
     "output_type": "stream",
     "text": [
      "Label: ['ads'], Confidence: [1.0]\n"
     ]
    }
   ],
   "source": [
    "print(f\"Label: {label}, Confidence: {confidence}\")"
   ]
  }
 ],
 "metadata": {
  "kernelspec": {
   "display_name": "Python 3",
   "language": "python",
   "name": "python3"
  },
  "language_info": {
   "codemirror_mode": {
    "name": "ipython",
    "version": 3
   },
   "file_extension": ".py",
   "mimetype": "text/x-python",
   "name": "python",
   "nbconvert_exporter": "python",
   "pygments_lexer": "ipython3",
   "version": "3.10.11"
  }
 },
 "nbformat": 4,
 "nbformat_minor": 5
}

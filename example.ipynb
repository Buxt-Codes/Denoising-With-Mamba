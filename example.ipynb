{
 "cells": [
  {
   "cell_type": "code",
   "execution_count": 1,
   "id": "7bfa1903",
   "metadata": {},
   "outputs": [],
   "source": [
    "from model import ReviewClassifier"
   ]
  },
  {
   "cell_type": "code",
   "execution_count": 2,
   "id": "8bced0d3",
   "metadata": {},
   "outputs": [],
   "source": [
    "sample_review = \"Need a quick fix? Visit Fix-A-Bike Now for fast, reliable repairs and friendly service. Get back on the road in no time!\"\n",
    "sample_location = \"Macdonalds in San Francisco, CA. It is a restaurant.\""
   ]
  },
  {
   "cell_type": "code",
   "execution_count": 3,
   "id": "7f247326",
   "metadata": {},
   "outputs": [
    {
     "name": "stderr",
     "output_type": "stream",
     "text": [
      "<All keys matched successfully>\n",
      "c:\\Users\\ian\\Desktop\\Coding\\ReviewClassification\\model\\review_classifier\\review_classifier.py:78: FutureWarning: You are using `torch.load` with `weights_only=False` (the current default value), which uses the default pickle module implicitly. It is possible to construct malicious pickle data which will execute arbitrary code during unpickling (See https://github.com/pytorch/pytorch/blob/main/SECURITY.md#untrusted-models for more details). In a future release, the default value for `weights_only` will be flipped to `True`. This limits the functions that could be executed during unpickling. Arbitrary objects will no longer be allowed to be loaded via this mode unless they are explicitly allowlisted by the user via `torch.serialization.add_safe_globals`. We recommend you start setting `weights_only=True` for any use case where you don't have full control of the loaded file. Please open an issue on GitHub for any issues related to this experimental feature.\n",
      "  self.decoder.load_state_dict(torch.load(model_path))\n"
     ]
    }
   ],
   "source": [
    "review_classifier = ReviewClassifier(\n",
    "    model_path=\"model/review_classifier/decoder/mamba_model/multi_classification_decoder.pt\",\n",
    "    encoder_path=\"model/review_classifier/embedder/nomic_model\",\n",
    "    multi_classes=True\n",
    ")"
   ]
  },
  {
   "cell_type": "code",
   "execution_count": 4,
   "id": "31911b80",
   "metadata": {},
   "outputs": [],
   "source": [
    "label, confidence = review_classifier.classify(sample_review, sample_location)"
   ]
  },
  {
   "cell_type": "code",
   "execution_count": 5,
   "id": "60956600",
   "metadata": {},
   "outputs": [
    {
     "name": "stdout",
     "output_type": "stream",
     "text": [
      "Label: ['ads'], Confidence: [1.0]\n"
     ]
    }
   ],
   "source": [
    "print(f\"Label: {label}, Confidence: {confidence}\")"
   ]
  }
 ],
 "metadata": {
  "kernelspec": {
   "display_name": "Python 3",
   "language": "python",
   "name": "python3"
  },
  "language_info": {
   "codemirror_mode": {
    "name": "ipython",
    "version": 3
   },
   "file_extension": ".py",
   "mimetype": "text/x-python",
   "name": "python",
   "nbconvert_exporter": "python",
   "pygments_lexer": "ipython3",
   "version": "3.12.6"
  }
 },
 "nbformat": 4,
 "nbformat_minor": 5
}

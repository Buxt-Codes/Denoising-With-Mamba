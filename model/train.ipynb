{
 "cells": [
  {
   "cell_type": "code",
   "execution_count": 1,
   "id": "b196e29b",
   "metadata": {},
   "outputs": [],
   "source": [
    "import torch\n",
    "from torch.utils.data import Dataset, DataLoader\n",
    "from training_utils import classification_training, contrastive_training\n",
    "from models import MambaPooled, MambaCLS, CrossAttentionTransformer"
   ]
  },
  {
   "cell_type": "code",
   "execution_count": null,
   "id": "83365735",
   "metadata": {},
   "outputs": [],
   "source": [
    "class ReviewDataset(Dataset):\n",
    "    def __init__(self, contexts, inputs, targets):\n",
    "        assert len(contexts) == len(inputs) == len(targets)\n",
    "        self.contexts = contexts\n",
    "        self.inputs = inputs\n",
    "        self.targets = targets\n",
    "\n",
    "    def __len__(self):\n",
    "        return len(self.targets)\n",
    "\n",
    "    def __getitem__(self, idx):\n",
    "        context = self.contexts[idx]\n",
    "        inp = self.inputs[idx]\n",
    "        target = self.targets[idx]\n",
    "\n",
    "        return context, inp, target"
   ]
  },
  {
   "cell_type": "code",
   "execution_count": null,
   "id": "c678c149",
   "metadata": {},
   "outputs": [],
   "source": [
    "contexts = [\"context 1\", \"context 2\", \"context 3\"]\n",
    "inputs = [\"input 1\", \"input 2\", \"input 3\"]\n",
    "targets = [0, 1, 0]\n",
    "\n",
    "dataset = ReviewDataset(contexts, inputs, targets)\n",
    "train_loader = DataLoader(dataset, batch_size=2, shuffle=True)"
   ]
  },
  {
   "cell_type": "code",
   "execution_count": 2,
   "id": "e87625d5",
   "metadata": {},
   "outputs": [],
   "source": [
    "d_input = 512\n",
    "d_context = 512\n",
    "d_model = 256\n",
    "num_layers = 3\n",
    "\n",
    "mamba_pooled = MambaPooled(\n",
    "    num_layers=num_layers,\n",
    "    d_input=d_input,\n",
    "    d_model=d_model,\n",
    "    d_context=d_context,\n",
    "    d_state=16,\n",
    "    d_discr=None,\n",
    "    ker_size=4,\n",
    "    parallel=True\n",
    ")"
   ]
  },
  {
   "cell_type": "code",
   "execution_count": 3,
   "id": "380b7ede",
   "metadata": {},
   "outputs": [
    {
     "name": "stdout",
     "output_type": "stream",
     "text": [
      "Logits shape: torch.Size([2, 1])\n",
      "Embeddings shape: torch.Size([2, 512])\n"
     ]
    }
   ],
   "source": [
    "# Dimensions\n",
    "batch_size = 2\n",
    "seq_len = 10\n",
    "d_input = 512\n",
    "d_context = 512\n",
    "\n",
    "# Random inputs\n",
    "x = torch.randn(batch_size, seq_len, d_input)      # input sequence\n",
    "context = torch.randn(batch_size, d_context)      # context vector\n",
    "\n",
    "# Forward pass\n",
    "logits = mamba_pooled(x, context)                # classifier output\n",
    "embeddings = mamba_pooled(x, context, True)      # embeddings\n",
    "\n",
    "print(\"Logits shape:\", logits.shape)             # (batch_size, seq_len, d_model)\n",
    "print(\"Embeddings shape:\", embeddings.shape)     # (batch_size, seq_len, d_model)"
   ]
  },
  {
   "cell_type": "code",
   "execution_count": 4,
   "id": "dc48d7e1",
   "metadata": {},
   "outputs": [],
   "source": [
    "d_input = 512        \n",
    "d_context = 512      \n",
    "d_model = 256        \n",
    "num_layers = 3       \n",
    "\n",
    "mamba_cls = MambaCLS(\n",
    "    num_layers=num_layers,\n",
    "    d_input=d_input,\n",
    "    d_context=d_context,\n",
    "    d_model=d_model,\n",
    "    d_state=16,       \n",
    "    d_discr=None,     \n",
    "    ker_size=4,       \n",
    "    parallel=True    \n",
    ")"
   ]
  },
  {
   "cell_type": "code",
   "execution_count": 5,
   "id": "db202b24",
   "metadata": {},
   "outputs": [
    {
     "name": "stdout",
     "output_type": "stream",
     "text": [
      "Logits shape: torch.Size([2, 1])\n",
      "Embeddings shape: torch.Size([2, 512])\n"
     ]
    }
   ],
   "source": [
    "# Dimensions\n",
    "batch_size = 2\n",
    "seq_len = 10\n",
    "d_input = 512\n",
    "d_context = 512\n",
    "\n",
    "# Random inputs\n",
    "x = torch.randn(batch_size, seq_len, d_input)      # input sequence\n",
    "context = torch.randn(batch_size, d_context)      # context vector\n",
    "\n",
    "# Forward pass\n",
    "logits = mamba_cls(x, context)                # classifier output\n",
    "embeddings = mamba_cls(x, context, True)      # embeddings\n",
    "\n",
    "print(\"Logits shape:\", logits.shape)             # (batch_size, seq_len, d_model)\n",
    "print(\"Embeddings shape:\", embeddings.shape)     # (batch_size, seq_len, d_model)"
   ]
  },
  {
   "cell_type": "code",
   "execution_count": 2,
   "id": "5402ae8a",
   "metadata": {},
   "outputs": [],
   "source": [
    "d_input = 512\n",
    "d_context = 512\n",
    "d_model = 256\n",
    "d_layers = 3       \n",
    "d_heads = 8 \n",
    "dropout = 0.1\n",
    "\n",
    "cross_attn_model = CrossAttentionTransformer(\n",
    "    d_input=d_input,\n",
    "    d_context=d_context,\n",
    "    d_model=d_model,\n",
    "    d_layers=d_layers,\n",
    "    d_heads=d_heads,\n",
    "    dropout=dropout\n",
    ")"
   ]
  },
  {
   "cell_type": "code",
   "execution_count": 4,
   "id": "04bdc09a",
   "metadata": {},
   "outputs": [
    {
     "name": "stdout",
     "output_type": "stream",
     "text": [
      "Logits shape: torch.Size([2, 10, 1])\n",
      "Embeddings shape: torch.Size([2, 10, 256])\n"
     ]
    }
   ],
   "source": [
    "# Dimensions\n",
    "batch_size = 2\n",
    "seq_len = 10\n",
    "d_input = 512\n",
    "d_context = 512\n",
    "\n",
    "# Random inputs\n",
    "x = torch.randn(batch_size, seq_len, d_input)      # input sequence\n",
    "context = torch.randn(batch_size, d_context)      # context vector\n",
    "\n",
    "# Forward pass\n",
    "logits = cross_attn_model(x, context)                # classifier output\n",
    "embeddings = cross_attn_model(x, context, True)      # embeddings\n",
    "\n",
    "print(\"Logits shape:\", logits.shape)             # (batch_size, seq_len, d_model)\n",
    "print(\"Embeddings shape:\", embeddings.shape)     # (batch_size, seq_len, d_model)"
   ]
  }
 ],
 "metadata": {
  "kernelspec": {
   "display_name": "Python 3",
   "language": "python",
   "name": "python3"
  },
  "language_info": {
   "codemirror_mode": {
    "name": "ipython",
    "version": 3
   },
   "file_extension": ".py",
   "mimetype": "text/x-python",
   "name": "python",
   "nbconvert_exporter": "python",
   "pygments_lexer": "ipython3",
   "version": "3.10.11"
  }
 },
 "nbformat": 4,
 "nbformat_minor": 5
}

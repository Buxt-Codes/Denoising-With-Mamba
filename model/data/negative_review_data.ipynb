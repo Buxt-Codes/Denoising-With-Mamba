{
 "cells": [
  {
   "cell_type": "code",
   "execution_count": 1,
   "id": "4267aa7b",
   "metadata": {},
   "outputs": [],
   "source": [
    "import json\n",
    "from transformers import AutoModelForCausalLM, AutoTokenizer\n",
    "import ast\n",
    "import re\n",
    "import torch\n",
    "import csv\n",
    "import pandas as pd\n",
    "\n",
    "categories_path = \"./helper_data/categories.csv\"\n",
    "model_name = \"mistralai/Mistral-7B-Instruct-v0.3\"\n",
    "irrelevant_reviews_path = \"./raw/irelevant_reviews.csv\"\n",
    "indirect_reviews_path = \"./raw/indirect_reviews.csv\""
   ]
  },
  {
   "cell_type": "code",
   "execution_count": 2,
   "id": "11a1aaa5",
   "metadata": {},
   "outputs": [],
   "source": [
    "def load_categories(path):\n",
    "    df = pd.read_csv(path)\n",
    "    return df[\"category\"].tolist()\n",
    "\n",
    "def generate_specific_prompt(category):\n",
    "    prompt = f\"\"\"\n",
    "You are a creative assistant tasked with writing **realistic customer reviews** for a store of a specific category. \n",
    "**Only content relevant to this exact category is allowed.** Any review that could apply to a different category should be considered irrelevant and must NOT be included.\n",
    "You are to focus on making only negative reviews.\n",
    "\n",
    "Category: \"{category}\"\n",
    "\n",
    "Instructions:\n",
    "1. Generate exactly 5 unique reviews.\n",
    "2. Each review should be short to medium length (1-3 sentences) and feel like it was written by a real customer.\n",
    "3. Reviews must be **highly specific to this category** — mention details, products, services, or experiences that only a store in this category would provide.\n",
    "4. Do NOT include content that could apply to any other category.\n",
    "5. Only generate NEGATIVE reviews.\n",
    "6. Return ONLY a Python-style list of strings.\n",
    "7. Do NOT include explanations, numbering, or any text outside the list.\n",
    "\n",
    "Example output format:\n",
    "\n",
    "[\"Review 1 highly specific to the category\",\n",
    " \"Review 2 highly specific to the category\",\n",
    " \"Review 3 highly specific to the category\",\n",
    " \"Review 4 highly specific to the category\",\n",
    " \"Review 5 highly specific to the category\"]\n",
    "\"\"\"\n",
    "    return prompt\n",
    "\n",
    "def generate_indirect_prompt(category):\n",
    "    prompt = f\"\"\"\n",
    "You are a creative assistant tasked with writing **realistic customer reviews** for a store of a specific category. \n",
    "These reviews should be **indirect negative reviews**, written as if the reviewer did **not personally experience** the store but is repeating what they heard or read online. Use phrases like \"I heard that\", \"I saw online that\", \"People say\", etc.\n",
    "\n",
    "Category: \"{category}\"\n",
    "\n",
    "Instructions:\n",
    "1. Generate exactly 5 unique indirect negative reviews.\n",
    "2. Each review should be short to medium length (1-3 sentences) and feel like a real customer comment.\n",
    "3. Reviews must be **highly specific to this category** — mention details, products, services, or experiences that only a store in this category would provide.\n",
    "4. Do NOT include content that could apply to any other category.\n",
    "5. Return ONLY a Python-style list of strings.\n",
    "6. Do NOT include explanations, numbering, or any text outside the list.\n",
    "\n",
    "Example output format:\n",
    "\n",
    "[\"I heard that the grooming services at this pet salon are often delayed, and some pets come back unkempt.\",\n",
    " \"I saw online that the museum exhibits were outdated and not very interactive, according to other visitors.\",\n",
    " \"People say that the bakery frequently runs out of popular pastries, which is disappointing.\",\n",
    " \"I read that the café has inconsistent quality in their drinks and long wait times.\",\n",
    " \"I heard that the hardware store has poor customer service and limited stock.\"]\n",
    "\"\"\"\n",
    "    return prompt\n",
    "\n",
    "def generate_prompts_grouped(\n",
    "    categories_path, \n",
    "    max_group_prompt=100,\n",
    "):\n",
    "    categories_list = load_categories(categories_path)\n",
    "\n",
    "    batch = []\n",
    "    for category in categories_list:\n",
    "        prompt = generate_indirect_prompt(category)\n",
    "        batch.append((prompt, category))\n",
    "        if len(batch) >= max_group_prompt:\n",
    "            yield batch\n",
    "            batch = []\n",
    "\n",
    "    if batch:\n",
    "        yield batch\n",
    "\n",
    "def parse_list(s: str, length: int | None = None):\n",
    "    start = s.find('[')\n",
    "    end = s.rfind(']')\n",
    "    \n",
    "    if start == -1 or end == -1 or start > end:\n",
    "        return None\n",
    "    \n",
    "    list_str = s[start:end+1]\n",
    "    try:\n",
    "        extracted_list = ast.literal_eval(list_str)\n",
    "        \n",
    "        if not isinstance(extracted_list, list):\n",
    "            return None\n",
    "        \n",
    "        is_valid = all(isinstance(x, str) and len(x.strip()) > 0 for x in extracted_list)\n",
    "        \n",
    "        if length is not None and len(extracted_list) != length:\n",
    "            return None\n",
    "\n",
    "        if is_valid:\n",
    "            return extracted_list\n",
    "        return None\n",
    "    \n",
    "    except (ValueError, SyntaxError):\n",
    "        return None\n",
    "\n",
    "def reviews_to_csv(output_path, reviews, append=True):\n",
    "    fieldnames = [\n",
    "        \"text\", \"category\"\n",
    "    ]\n",
    "    mode = \"a\" if append else \"w\"\n",
    "\n",
    "    with open(output_path, mode, newline=\"\", encoding=\"utf-8\") as f:\n",
    "        writer = csv.DictWriter(f, fieldnames=fieldnames, quoting=csv.QUOTE_ALL)\n",
    "        if not append:  \n",
    "            writer.writeheader()\n",
    "        for review in reviews:\n",
    "            writer.writerow(review)\n",
    "\n",
    "def clean_output(prompt: str, output_str: str) -> str:\n",
    "    if output_str.startswith(prompt):\n",
    "        return output_str[len(prompt):].strip()\n",
    "    return output_str.strip()"
   ]
  },
  {
   "cell_type": "code",
   "execution_count": 3,
   "id": "13f359ff",
   "metadata": {},
   "outputs": [
    {
     "data": {
      "application/vnd.jupyter.widget-view+json": {
       "model_id": "dce99b74c0f74ee488e8cf138bbc214d",
       "version_major": 2,
       "version_minor": 0
      },
      "text/plain": [
       "Loading checkpoint shards:   0%|          | 0/3 [00:00<?, ?it/s]"
      ]
     },
     "metadata": {},
     "output_type": "display_data"
    },
    {
     "name": "stderr",
     "output_type": "stream",
     "text": [
      "Setting `pad_token_id` to `eos_token_id`:2 for open-end generation.\n",
      "Setting `pad_token_id` to `eos_token_id`:2 for open-end generation.\n"
     ]
    },
    {
     "name": "stdout",
     "output_type": "stream",
     "text": [
      "Writing 320 rows to ./raw/indirect_reviews.csv, errors omitted: 0\n"
     ]
    },
    {
     "name": "stderr",
     "output_type": "stream",
     "text": [
      "Setting `pad_token_id` to `eos_token_id`:2 for open-end generation.\n"
     ]
    },
    {
     "name": "stdout",
     "output_type": "stream",
     "text": [
      "Writing 320 rows to ./raw/indirect_reviews.csv, errors omitted: 0\n"
     ]
    },
    {
     "name": "stderr",
     "output_type": "stream",
     "text": [
      "Setting `pad_token_id` to `eos_token_id`:2 for open-end generation.\n"
     ]
    },
    {
     "name": "stdout",
     "output_type": "stream",
     "text": [
      "Writing 320 rows to ./raw/indirect_reviews.csv, errors omitted: 0\n"
     ]
    },
    {
     "name": "stderr",
     "output_type": "stream",
     "text": [
      "Setting `pad_token_id` to `eos_token_id`:2 for open-end generation.\n"
     ]
    },
    {
     "name": "stdout",
     "output_type": "stream",
     "text": [
      "Writing 320 rows to ./raw/indirect_reviews.csv, errors omitted: 0\n"
     ]
    },
    {
     "name": "stderr",
     "output_type": "stream",
     "text": [
      "Setting `pad_token_id` to `eos_token_id`:2 for open-end generation.\n"
     ]
    },
    {
     "name": "stdout",
     "output_type": "stream",
     "text": [
      "Writing 320 rows to ./raw/indirect_reviews.csv, errors omitted: 0\n"
     ]
    },
    {
     "name": "stderr",
     "output_type": "stream",
     "text": [
      "Setting `pad_token_id` to `eos_token_id`:2 for open-end generation.\n"
     ]
    },
    {
     "name": "stdout",
     "output_type": "stream",
     "text": [
      "Writing 320 rows to ./raw/indirect_reviews.csv, errors omitted: 0\n"
     ]
    },
    {
     "name": "stderr",
     "output_type": "stream",
     "text": [
      "Setting `pad_token_id` to `eos_token_id`:2 for open-end generation.\n"
     ]
    },
    {
     "name": "stdout",
     "output_type": "stream",
     "text": [
      "Writing 320 rows to ./raw/indirect_reviews.csv, errors omitted: 0\n"
     ]
    },
    {
     "name": "stderr",
     "output_type": "stream",
     "text": [
      "Setting `pad_token_id` to `eos_token_id`:2 for open-end generation.\n"
     ]
    },
    {
     "name": "stdout",
     "output_type": "stream",
     "text": [
      "Writing 320 rows to ./raw/indirect_reviews.csv, errors omitted: 0\n"
     ]
    },
    {
     "name": "stderr",
     "output_type": "stream",
     "text": [
      "Setting `pad_token_id` to `eos_token_id`:2 for open-end generation.\n"
     ]
    },
    {
     "name": "stdout",
     "output_type": "stream",
     "text": [
      "Writing 320 rows to ./raw/indirect_reviews.csv, errors omitted: 0\n"
     ]
    },
    {
     "name": "stderr",
     "output_type": "stream",
     "text": [
      "Setting `pad_token_id` to `eos_token_id`:2 for open-end generation.\n"
     ]
    },
    {
     "name": "stdout",
     "output_type": "stream",
     "text": [
      "Writing 320 rows to ./raw/indirect_reviews.csv, errors omitted: 0\n"
     ]
    },
    {
     "name": "stderr",
     "output_type": "stream",
     "text": [
      "Setting `pad_token_id` to `eos_token_id`:2 for open-end generation.\n"
     ]
    },
    {
     "name": "stdout",
     "output_type": "stream",
     "text": [
      "Writing 320 rows to ./raw/indirect_reviews.csv, errors omitted: 0\n"
     ]
    },
    {
     "name": "stderr",
     "output_type": "stream",
     "text": [
      "Setting `pad_token_id` to `eos_token_id`:2 for open-end generation.\n"
     ]
    },
    {
     "name": "stdout",
     "output_type": "stream",
     "text": [
      "Writing 320 rows to ./raw/indirect_reviews.csv, errors omitted: 0\n"
     ]
    },
    {
     "name": "stderr",
     "output_type": "stream",
     "text": [
      "Setting `pad_token_id` to `eos_token_id`:2 for open-end generation.\n"
     ]
    },
    {
     "name": "stdout",
     "output_type": "stream",
     "text": [
      "Writing 320 rows to ./raw/indirect_reviews.csv, errors omitted: 0\n"
     ]
    },
    {
     "name": "stderr",
     "output_type": "stream",
     "text": [
      "Setting `pad_token_id` to `eos_token_id`:2 for open-end generation.\n"
     ]
    },
    {
     "name": "stdout",
     "output_type": "stream",
     "text": [
      "Writing 320 rows to ./raw/indirect_reviews.csv, errors omitted: 0\n",
      "Writing 80 rows to ./raw/indirect_reviews.csv, errors omitted: 0\n",
      "Classification complete. Results saved to ./raw/indirect_reviews.csv\n"
     ]
    }
   ],
   "source": [
    "tokenizer = AutoTokenizer.from_pretrained(model_name)\n",
    "tokenizer.pad_token = tokenizer.eos_token\n",
    "model = AutoModelForCausalLM.from_pretrained(model_name, torch_dtype=torch.float16, device_map={\"\": 0})\n",
    "\n",
    "for batch in generate_prompts_grouped(\n",
    "    categories_path=categories_path,\n",
    "    max_group_prompt=64\n",
    "):\n",
    "    prompts = [prompt for prompt, _ in batch]\n",
    "    categories = [category for _, category in batch]\n",
    "    inputs = tokenizer(prompts, return_tensors=\"pt\", padding=True).to(model.device)\n",
    "    outputs = model.generate(**inputs, max_new_tokens=256)\n",
    "\n",
    "    errors = 0\n",
    "    rows_to_write = []\n",
    "    for prompt_idx, output in enumerate(outputs):\n",
    "        output_str = tokenizer.decode(output, skip_special_tokens=True)\n",
    "        output_str = clean_output(prompts[prompt_idx], output_str)\n",
    "        reviews = parse_list(output_str, 5)\n",
    "\n",
    "        if reviews is None:\n",
    "            errors += 1\n",
    "            continue \n",
    "\n",
    "        for review in reviews:\n",
    "            rows_to_write.append({\n",
    "                \"text\": review,\n",
    "                \"category\": categories[prompt_idx],\n",
    "            })\n",
    "\n",
    "    print(f\"Writing {len(rows_to_write)} rows to {indirect_reviews_path}, errors omitted: {errors}\")\n",
    "    reviews_to_csv(indirect_reviews_path, rows_to_write)\n",
    "\n",
    "    del inputs, outputs\n",
    "    torch.cuda.empty_cache()\n",
    "\n",
    "print(f\"Classification complete. Results saved to {indirect_reviews_path}\")"
   ]
  },
  {
   "cell_type": "code",
   "execution_count": 5,
   "id": "2894e8f0",
   "metadata": {},
   "outputs": [
    {
     "name": "stdout",
     "output_type": "stream",
     "text": [
      "Assignment complete!\n"
     ]
    }
   ],
   "source": [
    "import pandas as pd\n",
    "import ast\n",
    "import random\n",
    "import csv\n",
    "\n",
    "def assign_gmap_ids(locations_path, ads_path, indirect_path, irelevant_path,\n",
    "                    output_ads, output_indirect, output_irelevant):\n",
    "    locations = pd.read_csv(locations_path)\n",
    "    locations['category'] = locations['category'].apply(lambda x: ast.literal_eval(x) if isinstance(x, str) else x)\n",
    "    \n",
    "    # --- ADS REVIEWS ---\n",
    "    ads = pd.read_csv(ads_path)\n",
    "    ads['gmap_id'] = ads.apply(lambda _: random.choice(locations['gmap_id']), axis=1)\n",
    "    ads.to_csv(output_ads, index=False, encoding='utf-8', quoting=csv.QUOTE_ALL)\n",
    "    \n",
    "    # --- INDIRECT REVIEWS ---\n",
    "    indirect = pd.read_csv(indirect_path)\n",
    "    def assign_indirect(row):\n",
    "        candidates = locations[locations['category'].apply(lambda cats: isinstance(cats, list) and row['category'] in cats)]\n",
    "        if not candidates.empty:\n",
    "            return random.choice(candidates['gmap_id'].tolist())\n",
    "        else:\n",
    "            return None \n",
    "    indirect['gmap_id'] = indirect.apply(assign_indirect, axis=1)\n",
    "    indirect.to_csv(output_indirect, index=False, encoding='utf-8', quoting=csv.QUOTE_ALL)\n",
    "    \n",
    "    # --- IRRELEVANT REVIEWS ---\n",
    "    irelevant = pd.read_csv(irelevant_path)\n",
    "    def assign_irelevant(row):\n",
    "        candidates = locations[locations['category'].apply(lambda cats: isinstance(cats, list) and row['category'] not in cats)]\n",
    "        if not candidates.empty:\n",
    "            return random.choice(candidates['gmap_id'].tolist())\n",
    "        else:\n",
    "            return None\n",
    "    irelevant['gmap_id'] = irelevant.apply(assign_irelevant, axis=1)\n",
    "    irelevant.to_csv(output_irelevant, index=False, encoding='utf-8', quoting=csv.QUOTE_ALL)\n",
    "    \n",
    "    print(\"Assignment complete!\")\n",
    "\n",
    "assign_gmap_ids(\n",
    "    locations_path=r\"C:\\Users\\ian\\Desktop\\Coding\\ReviewClassification\\model\\data\\processed\\locations.csv\",\n",
    "    ads_path=r\"C:\\Users\\ian\\Desktop\\Coding\\ReviewClassification\\model\\data\\processed\\ads_reviews.csv\",\n",
    "    indirect_path=r\"C:\\Users\\ian\\Desktop\\Coding\\ReviewClassification\\model\\data\\processed\\indirect_reviews.csv\",\n",
    "    irelevant_path=r\"C:\\Users\\ian\\Desktop\\Coding\\ReviewClassification\\model\\data\\processed\\irelevant_reviews.csv\",\n",
    "    output_ads=r\"C:\\Users\\ian\\Desktop\\Coding\\ReviewClassification\\model\\data\\processed\\ads_reviews_assigned.csv\",\n",
    "    output_indirect=r\"C:\\Users\\ian\\Desktop\\Coding\\ReviewClassification\\model\\data\\processed\\indirect_reviews_assigned.csv\",\n",
    "    output_irelevant=r\"C:\\Users\\ian\\Desktop\\Coding\\ReviewClassification\\model\\data\\processed\\irelevant_reviews_assigned.csv\"\n",
    ")\n"
   ]
  },
  {
   "cell_type": "code",
   "execution_count": 6,
   "id": "d851809a",
   "metadata": {},
   "outputs": [
    {
     "name": "stdout",
     "output_type": "stream",
     "text": [
      "CSV files updated successfully!\n"
     ]
    }
   ],
   "source": [
    "# Paths to the _assigned CSVs\n",
    "assigned_ads = r\"C:\\Users\\ian\\Desktop\\Coding\\ReviewClassification\\model\\data\\processed\\ads_reviews_assigned.csv\"\n",
    "assigned_indirect = r\"C:\\Users\\ian\\Desktop\\Coding\\ReviewClassification\\model\\data\\processed\\indirect_reviews_assigned.csv\"\n",
    "assigned_irelevant = r\"C:\\Users\\ian\\Desktop\\Coding\\ReviewClassification\\model\\data\\processed\\irelevant_reviews_assigned.csv\"\n",
    "\n",
    "# Output paths without \"_assigned\"\n",
    "output_ads = assigned_ads.replace(\"_assigned\", \"\")\n",
    "output_indirect = assigned_indirect.replace(\"_assigned\", \"\")\n",
    "output_irelevant = assigned_irelevant.replace(\"_assigned\", \"\")\n",
    "\n",
    "# --- ADS REVIEWS ---\n",
    "ads = pd.read_csv(assigned_ads)\n",
    "ads.to_csv(output_ads, index=False, encoding='utf-8', quoting=csv.QUOTE_ALL)\n",
    "\n",
    "# --- INDIRECT REVIEWS ---\n",
    "indirect = pd.read_csv(assigned_indirect)\n",
    "indirect = indirect.drop(columns=['category'], errors='ignore')\n",
    "indirect.to_csv(output_indirect, index=False, encoding='utf-8', quoting=csv.QUOTE_ALL)\n",
    "\n",
    "# --- IRRELEVANT REVIEWS ---\n",
    "irelevant = pd.read_csv(assigned_irelevant)\n",
    "irelevant = irelevant.drop(columns=['category'], errors='ignore')\n",
    "irelevant.to_csv(output_irelevant, index=False, encoding='utf-8', quoting=csv.QUOTE_ALL)\n",
    "\n",
    "print(\"CSV files updated successfully!\")"
   ]
  }
 ],
 "metadata": {
  "kernelspec": {
   "display_name": "Python 3",
   "language": "python",
   "name": "python3"
  },
  "language_info": {
   "codemirror_mode": {
    "name": "ipython",
    "version": 3
   },
   "file_extension": ".py",
   "mimetype": "text/x-python",
   "name": "python",
   "nbconvert_exporter": "python",
   "pygments_lexer": "ipython3",
   "version": "3.12.6"
  }
 },
 "nbformat": 4,
 "nbformat_minor": 5
}

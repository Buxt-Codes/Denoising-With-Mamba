{
 "cells": [
  {
   "cell_type": "code",
   "execution_count": 5,
   "id": "c03d8266",
   "metadata": {},
   "outputs": [],
   "source": [
    "import json\n",
    "from transformers import AutoModelForCausalLM, AutoTokenizer\n",
    "import ast\n",
    "import re\n",
    "import torch\n",
    "import csv\n",
    "import pandas as pd\n",
    "\n",
    "location_path = \"./raw/meta-other.json\"\n",
    "review_path = \"./raw/review-other.json\"\n",
    "model_name = \"mistralai/Mistral-7B-Instruct-v0.3\"\n",
    "review_classification_path = \"./raw/reviews_classified.csv\""
   ]
  },
  {
   "cell_type": "code",
   "execution_count": 2,
   "id": "fb175703",
   "metadata": {},
   "outputs": [],
   "source": [
    "def load_location_dict(path):\n",
    "    meta = {}\n",
    "    drop_keys = {\"latitude\", \"longitude\", \"url\"}\n",
    "    with open(path, \"r\", encoding=\"utf-8\") as f:\n",
    "        for line in f:\n",
    "            obj = json.loads(line)\n",
    "            for key in drop_keys:\n",
    "                obj.pop(key, None)\n",
    "            meta[obj[\"gmap_id\"]] = obj\n",
    "    return meta\n",
    "\n",
    "def load_reviews_dict(path):\n",
    "    meta = []\n",
    "    drop_keys = {\"user_id\", \"time\"}\n",
    "    with open(path, \"r\", encoding=\"utf-8\") as f:\n",
    "        for line in f:\n",
    "            obj = json.loads(line)\n",
    "            for key in drop_keys:\n",
    "                obj.pop(key, None)\n",
    "            meta.append(obj)\n",
    "    return meta\n",
    "\n",
    "def load_reviews_gen(path, start=0, end=1000):\n",
    "    drop_keys = {\"user_id\", \"time\"}\n",
    "    with open(path, \"r\", encoding=\"utf-8\") as f:\n",
    "        for i, line in enumerate(f):\n",
    "            if i < start:\n",
    "                continue\n",
    "            if end is not None and i >= end:\n",
    "                break\n",
    "            obj = json.loads(line)\n",
    "            for key in drop_keys:\n",
    "                obj.pop(key, None)\n",
    "            yield obj\n",
    "\n",
    "def load_reviews_grouped(path, start=0, end=1000, max_group=5):\n",
    "    drop_keys = {\"user_id\", \"time\"}\n",
    "    current_group = []\n",
    "    current_gmap_id = None\n",
    "\n",
    "    with open(path, \"r\", encoding=\"utf-8\") as f:\n",
    "        for i, line in enumerate(f):\n",
    "            if i < start:\n",
    "                continue\n",
    "            if end is not None and i >= end:\n",
    "                break\n",
    "\n",
    "            obj = json.loads(line)\n",
    "            for key in drop_keys:\n",
    "                obj.pop(key, None)\n",
    "\n",
    "            gmap_id = obj.get(\"gmap_id\")\n",
    "\n",
    "            if gmap_id != current_gmap_id:\n",
    "                if current_group:\n",
    "                    yield current_group\n",
    "                current_group = [obj]\n",
    "                current_gmap_id = gmap_id\n",
    "            else:\n",
    "                current_group.append(obj)\n",
    "                if len(current_group) >= max_group:\n",
    "                    yield current_group\n",
    "                    current_group = []\n",
    "                    current_gmap_id = None\n",
    "\n",
    "        if current_group:\n",
    "            yield current_group"
   ]
  },
  {
   "cell_type": "code",
   "execution_count": 3,
   "id": "f55575dc",
   "metadata": {},
   "outputs": [],
   "source": [
    "def generate_prompt(reviews, location):\n",
    "    if isinstance(reviews, dict):\n",
    "        reviews = [reviews]\n",
    "    review_texts = \"\\n\\n\".join(\n",
    "        f\"Review {i+1}:\\n\\\"\\\"\\\"{r.get('text', '')}\\\"\\\"\\\"\" for i, r in enumerate(reviews)\n",
    "    )\n",
    "    location_context = str(location)\n",
    "\n",
    "    prompt = f\"\"\"\n",
    "You are a content moderation assistant. Your job is to determine, for each review provided, \n",
    "whether it is relevant to the given location and complies with the policies listed below.\n",
    "\n",
    "Here are the reviews:\n",
    "\n",
    "{review_texts}\n",
    "\n",
    "Location context:\n",
    "\n",
    "\\\"\\\"\\\"{location_context}\\\"\\\"\\\"\n",
    "\n",
    "Policies to enforce:\n",
    "1. No advertisements or promotional content.\n",
    "2. No irrelevant content (e.g., reviews about unrelated topics).\n",
    "3. No rants or complaints from users who have not visited the place.\n",
    "\n",
    "Instructions:\n",
    "- Evaluate each review independently.\n",
    "- If a review is relevant and complies with all policies, assign 1.\n",
    "- If a review is irrelevant or violates any policy, assign 0.\n",
    "- ONLY return a single Python-style list of integers, one element per review, in the SAME ORDER as the reviews.\n",
    "- Do not include any text, explanations, or punctuation outside of the list.\n",
    "\n",
    "Example output format (for four reviews):\n",
    "\n",
    "[1, 0, 1, 1]\n",
    "\"\"\"\n",
    "\n",
    "    return prompt\n",
    "\n",
    "def generate_prompts_grouped(\n",
    "    review_path, \n",
    "    location_path, \n",
    "    start=0, \n",
    "    end=1000, \n",
    "    max_group_prompt=100, \n",
    "    max_group_review=5\n",
    "):\n",
    "    location_dict = load_location_dict(location_path)\n",
    "\n",
    "    batch = []\n",
    "    for group in load_reviews_grouped(review_path, start, end, max_group_review):\n",
    "        gmap_id = group[0][\"gmap_id\"]\n",
    "        location = location_dict.get(gmap_id, None)\n",
    "        if location:\n",
    "            prompt = generate_prompt(group, location)\n",
    "            batch.append((prompt, group))\n",
    "            if len(batch) >= max_group_prompt:\n",
    "                yield batch\n",
    "                batch = []\n",
    "        else:\n",
    "            continue\n",
    "\n",
    "    if batch:\n",
    "        yield batch\n",
    "\n",
    "def parse_list(s: str, length: int | None = None):\n",
    "    match = re.search(r'\\[.*\\]', s, re.DOTALL)\n",
    "    if not match:\n",
    "        return None\n",
    "    \n",
    "    list_str = match.group(0)\n",
    "    try:\n",
    "        extracted_list = ast.literal_eval(list_str)\n",
    "        \n",
    "        if not isinstance(extracted_list, list):\n",
    "            return None\n",
    "        \n",
    "        is_valid = all(isinstance(x, (int, float)) and x in (0, 1) for x in extracted_list)\n",
    "        \n",
    "        if length is not None and len(extracted_list) != length:\n",
    "            return None\n",
    "\n",
    "        if is_valid:\n",
    "            return [float(x) for x in extracted_list]\n",
    "        return None\n",
    "    \n",
    "    except (ValueError, SyntaxError):\n",
    "        return None\n",
    "\n",
    "def reviews_to_csv(output_path, reviews, append=True):\n",
    "    fieldnames = [\n",
    "        \"name\", \"rating\", \"text\",\n",
    "        \"resp\", \"gmap_id\", \"label\"\n",
    "    ]\n",
    "    mode = \"a\" if append else \"w\"\n",
    "\n",
    "    with open(output_path, mode, newline=\"\", encoding=\"utf-8\") as f:\n",
    "        writer = csv.DictWriter(f, fieldnames=fieldnames, quoting=csv.QUOTE_ALL)\n",
    "        if not append:  \n",
    "            writer.writeheader()\n",
    "        for review in reviews:\n",
    "            writer.writerow(review)\n",
    "\n",
    "def clean_output(prompt: str, output_str: str) -> str:\n",
    "    if output_str.startswith(prompt):\n",
    "        return output_str[len(prompt):].strip()\n",
    "    return output_str.strip()"
   ]
  },
  {
   "cell_type": "code",
   "execution_count": null,
   "id": "137ad5f5",
   "metadata": {},
   "outputs": [
    {
     "data": {
      "application/vnd.jupyter.widget-view+json": {
       "model_id": "f49a290c0ac14b1a8402073f0d2b3a4f",
       "version_major": 2,
       "version_minor": 0
      },
      "text/plain": [
       "Loading checkpoint shards:   0%|          | 0/3 [00:00<?, ?it/s]"
      ]
     },
     "metadata": {},
     "output_type": "display_data"
    },
    {
     "name": "stderr",
     "output_type": "stream",
     "text": [
      "The following generation flags are not valid and may be ignored: ['early_stopping']. Set `TRANSFORMERS_VERBOSITY=info` for more details.\n",
      "Setting `pad_token_id` to `eos_token_id`:2 for open-end generation.\n",
      "The following generation flags are not valid and may be ignored: ['early_stopping']. Set `TRANSFORMERS_VERBOSITY=info` for more details.\n",
      "Setting `pad_token_id` to `eos_token_id`:2 for open-end generation.\n"
     ]
    },
    {
     "name": "stdout",
     "output_type": "stream",
     "text": [
      "Writing 63 rows to ./raw/reviews_classified.csv, errors omitted: 0\n"
     ]
    },
    {
     "name": "stderr",
     "output_type": "stream",
     "text": [
      "The following generation flags are not valid and may be ignored: ['early_stopping']. Set `TRANSFORMERS_VERBOSITY=info` for more details.\n",
      "Setting `pad_token_id` to `eos_token_id`:2 for open-end generation.\n"
     ]
    },
    {
     "name": "stdout",
     "output_type": "stream",
     "text": [
      "Writing 67 rows to ./raw/reviews_classified.csv, errors omitted: 0\n"
     ]
    },
    {
     "name": "stderr",
     "output_type": "stream",
     "text": [
      "The following generation flags are not valid and may be ignored: ['early_stopping']. Set `TRANSFORMERS_VERBOSITY=info` for more details.\n",
      "Setting `pad_token_id` to `eos_token_id`:2 for open-end generation.\n"
     ]
    },
    {
     "name": "stdout",
     "output_type": "stream",
     "text": [
      "Writing 64 rows to ./raw/reviews_classified.csv, errors omitted: 0\n"
     ]
    },
    {
     "name": "stderr",
     "output_type": "stream",
     "text": [
      "The following generation flags are not valid and may be ignored: ['early_stopping']. Set `TRANSFORMERS_VERBOSITY=info` for more details.\n",
      "Setting `pad_token_id` to `eos_token_id`:2 for open-end generation.\n"
     ]
    },
    {
     "name": "stdout",
     "output_type": "stream",
     "text": [
      "Writing 69 rows to ./raw/reviews_classified.csv, errors omitted: 0\n"
     ]
    },
    {
     "name": "stderr",
     "output_type": "stream",
     "text": [
      "The following generation flags are not valid and may be ignored: ['early_stopping']. Set `TRANSFORMERS_VERBOSITY=info` for more details.\n",
      "Setting `pad_token_id` to `eos_token_id`:2 for open-end generation.\n"
     ]
    },
    {
     "name": "stdout",
     "output_type": "stream",
     "text": [
      "Writing 58 rows to ./raw/reviews_classified.csv, errors omitted: 0\n"
     ]
    },
    {
     "name": "stderr",
     "output_type": "stream",
     "text": [
      "The following generation flags are not valid and may be ignored: ['early_stopping']. Set `TRANSFORMERS_VERBOSITY=info` for more details.\n",
      "Setting `pad_token_id` to `eos_token_id`:2 for open-end generation.\n"
     ]
    },
    {
     "name": "stdout",
     "output_type": "stream",
     "text": [
      "Writing 64 rows to ./raw/reviews_classified.csv, errors omitted: 1\n"
     ]
    },
    {
     "name": "stderr",
     "output_type": "stream",
     "text": [
      "The following generation flags are not valid and may be ignored: ['early_stopping']. Set `TRANSFORMERS_VERBOSITY=info` for more details.\n",
      "Setting `pad_token_id` to `eos_token_id`:2 for open-end generation.\n"
     ]
    },
    {
     "name": "stdout",
     "output_type": "stream",
     "text": [
      "Writing 65 rows to ./raw/reviews_classified.csv, errors omitted: 0\n"
     ]
    },
    {
     "name": "stderr",
     "output_type": "stream",
     "text": [
      "The following generation flags are not valid and may be ignored: ['early_stopping']. Set `TRANSFORMERS_VERBOSITY=info` for more details.\n",
      "Setting `pad_token_id` to `eos_token_id`:2 for open-end generation.\n"
     ]
    },
    {
     "name": "stdout",
     "output_type": "stream",
     "text": [
      "Writing 78 rows to ./raw/reviews_classified.csv, errors omitted: 0\n"
     ]
    },
    {
     "name": "stderr",
     "output_type": "stream",
     "text": [
      "The following generation flags are not valid and may be ignored: ['early_stopping']. Set `TRANSFORMERS_VERBOSITY=info` for more details.\n",
      "Setting `pad_token_id` to `eos_token_id`:2 for open-end generation.\n"
     ]
    },
    {
     "name": "stdout",
     "output_type": "stream",
     "text": [
      "Writing 73 rows to ./raw/reviews_classified.csv, errors omitted: 0\n"
     ]
    },
    {
     "name": "stderr",
     "output_type": "stream",
     "text": [
      "The following generation flags are not valid and may be ignored: ['early_stopping']. Set `TRANSFORMERS_VERBOSITY=info` for more details.\n",
      "Setting `pad_token_id` to `eos_token_id`:2 for open-end generation.\n"
     ]
    },
    {
     "name": "stdout",
     "output_type": "stream",
     "text": [
      "Writing 71 rows to ./raw/reviews_classified.csv, errors omitted: 1\n"
     ]
    },
    {
     "name": "stderr",
     "output_type": "stream",
     "text": [
      "The following generation flags are not valid and may be ignored: ['early_stopping']. Set `TRANSFORMERS_VERBOSITY=info` for more details.\n",
      "Setting `pad_token_id` to `eos_token_id`:2 for open-end generation.\n"
     ]
    },
    {
     "name": "stdout",
     "output_type": "stream",
     "text": [
      "Writing 76 rows to ./raw/reviews_classified.csv, errors omitted: 0\n"
     ]
    },
    {
     "name": "stderr",
     "output_type": "stream",
     "text": [
      "The following generation flags are not valid and may be ignored: ['early_stopping']. Set `TRANSFORMERS_VERBOSITY=info` for more details.\n",
      "Setting `pad_token_id` to `eos_token_id`:2 for open-end generation.\n"
     ]
    },
    {
     "name": "stdout",
     "output_type": "stream",
     "text": [
      "Writing 66 rows to ./raw/reviews_classified.csv, errors omitted: 0\n"
     ]
    },
    {
     "name": "stderr",
     "output_type": "stream",
     "text": [
      "The following generation flags are not valid and may be ignored: ['early_stopping']. Set `TRANSFORMERS_VERBOSITY=info` for more details.\n",
      "Setting `pad_token_id` to `eos_token_id`:2 for open-end generation.\n"
     ]
    },
    {
     "name": "stdout",
     "output_type": "stream",
     "text": [
      "Writing 75 rows to ./raw/reviews_classified.csv, errors omitted: 0\n"
     ]
    },
    {
     "name": "stderr",
     "output_type": "stream",
     "text": [
      "The following generation flags are not valid and may be ignored: ['early_stopping']. Set `TRANSFORMERS_VERBOSITY=info` for more details.\n",
      "Setting `pad_token_id` to `eos_token_id`:2 for open-end generation.\n"
     ]
    },
    {
     "name": "stdout",
     "output_type": "stream",
     "text": [
      "Writing 63 rows to ./raw/reviews_classified.csv, errors omitted: 0\n"
     ]
    },
    {
     "name": "stderr",
     "output_type": "stream",
     "text": [
      "The following generation flags are not valid and may be ignored: ['early_stopping']. Set `TRANSFORMERS_VERBOSITY=info` for more details.\n",
      "Setting `pad_token_id` to `eos_token_id`:2 for open-end generation.\n"
     ]
    },
    {
     "name": "stdout",
     "output_type": "stream",
     "text": [
      "Writing 68 rows to ./raw/reviews_classified.csv, errors omitted: 0\n"
     ]
    },
    {
     "name": "stderr",
     "output_type": "stream",
     "text": [
      "The following generation flags are not valid and may be ignored: ['early_stopping']. Set `TRANSFORMERS_VERBOSITY=info` for more details.\n",
      "Setting `pad_token_id` to `eos_token_id`:2 for open-end generation.\n"
     ]
    },
    {
     "name": "stdout",
     "output_type": "stream",
     "text": [
      "Writing 74 rows to ./raw/reviews_classified.csv, errors omitted: 0\n"
     ]
    },
    {
     "name": "stderr",
     "output_type": "stream",
     "text": [
      "The following generation flags are not valid and may be ignored: ['early_stopping']. Set `TRANSFORMERS_VERBOSITY=info` for more details.\n",
      "Setting `pad_token_id` to `eos_token_id`:2 for open-end generation.\n"
     ]
    },
    {
     "name": "stdout",
     "output_type": "stream",
     "text": [
      "Writing 70 rows to ./raw/reviews_classified.csv, errors omitted: 0\n"
     ]
    },
    {
     "name": "stderr",
     "output_type": "stream",
     "text": [
      "The following generation flags are not valid and may be ignored: ['early_stopping']. Set `TRANSFORMERS_VERBOSITY=info` for more details.\n",
      "Setting `pad_token_id` to `eos_token_id`:2 for open-end generation.\n"
     ]
    },
    {
     "name": "stdout",
     "output_type": "stream",
     "text": [
      "Writing 68 rows to ./raw/reviews_classified.csv, errors omitted: 1\n"
     ]
    },
    {
     "name": "stderr",
     "output_type": "stream",
     "text": [
      "The following generation flags are not valid and may be ignored: ['early_stopping']. Set `TRANSFORMERS_VERBOSITY=info` for more details.\n",
      "Setting `pad_token_id` to `eos_token_id`:2 for open-end generation.\n"
     ]
    },
    {
     "name": "stdout",
     "output_type": "stream",
     "text": [
      "Writing 67 rows to ./raw/reviews_classified.csv, errors omitted: 1\n"
     ]
    },
    {
     "name": "stderr",
     "output_type": "stream",
     "text": [
      "The following generation flags are not valid and may be ignored: ['early_stopping']. Set `TRANSFORMERS_VERBOSITY=info` for more details.\n",
      "Setting `pad_token_id` to `eos_token_id`:2 for open-end generation.\n"
     ]
    },
    {
     "name": "stdout",
     "output_type": "stream",
     "text": [
      "Writing 78 rows to ./raw/reviews_classified.csv, errors omitted: 0\n"
     ]
    },
    {
     "name": "stderr",
     "output_type": "stream",
     "text": [
      "The following generation flags are not valid and may be ignored: ['early_stopping']. Set `TRANSFORMERS_VERBOSITY=info` for more details.\n",
      "Setting `pad_token_id` to `eos_token_id`:2 for open-end generation.\n"
     ]
    },
    {
     "name": "stdout",
     "output_type": "stream",
     "text": [
      "Writing 78 rows to ./raw/reviews_classified.csv, errors omitted: 0\n"
     ]
    },
    {
     "name": "stderr",
     "output_type": "stream",
     "text": [
      "The following generation flags are not valid and may be ignored: ['early_stopping']. Set `TRANSFORMERS_VERBOSITY=info` for more details.\n",
      "Setting `pad_token_id` to `eos_token_id`:2 for open-end generation.\n"
     ]
    },
    {
     "name": "stdout",
     "output_type": "stream",
     "text": [
      "Writing 75 rows to ./raw/reviews_classified.csv, errors omitted: 0\n"
     ]
    },
    {
     "name": "stderr",
     "output_type": "stream",
     "text": [
      "The following generation flags are not valid and may be ignored: ['early_stopping']. Set `TRANSFORMERS_VERBOSITY=info` for more details.\n",
      "Setting `pad_token_id` to `eos_token_id`:2 for open-end generation.\n"
     ]
    },
    {
     "name": "stdout",
     "output_type": "stream",
     "text": [
      "Writing 73 rows to ./raw/reviews_classified.csv, errors omitted: 0\n"
     ]
    },
    {
     "name": "stderr",
     "output_type": "stream",
     "text": [
      "The following generation flags are not valid and may be ignored: ['early_stopping']. Set `TRANSFORMERS_VERBOSITY=info` for more details.\n",
      "Setting `pad_token_id` to `eos_token_id`:2 for open-end generation.\n"
     ]
    },
    {
     "name": "stdout",
     "output_type": "stream",
     "text": [
      "Writing 78 rows to ./raw/reviews_classified.csv, errors omitted: 0\n"
     ]
    },
    {
     "name": "stderr",
     "output_type": "stream",
     "text": [
      "The following generation flags are not valid and may be ignored: ['early_stopping']. Set `TRANSFORMERS_VERBOSITY=info` for more details.\n",
      "Setting `pad_token_id` to `eos_token_id`:2 for open-end generation.\n"
     ]
    },
    {
     "name": "stdout",
     "output_type": "stream",
     "text": [
      "Writing 72 rows to ./raw/reviews_classified.csv, errors omitted: 1\n"
     ]
    },
    {
     "name": "stderr",
     "output_type": "stream",
     "text": [
      "The following generation flags are not valid and may be ignored: ['early_stopping']. Set `TRANSFORMERS_VERBOSITY=info` for more details.\n",
      "Setting `pad_token_id` to `eos_token_id`:2 for open-end generation.\n"
     ]
    },
    {
     "name": "stdout",
     "output_type": "stream",
     "text": [
      "Writing 63 rows to ./raw/reviews_classified.csv, errors omitted: 0\n"
     ]
    },
    {
     "name": "stderr",
     "output_type": "stream",
     "text": [
      "The following generation flags are not valid and may be ignored: ['early_stopping']. Set `TRANSFORMERS_VERBOSITY=info` for more details.\n",
      "Setting `pad_token_id` to `eos_token_id`:2 for open-end generation.\n"
     ]
    },
    {
     "name": "stdout",
     "output_type": "stream",
     "text": [
      "Writing 79 rows to ./raw/reviews_classified.csv, errors omitted: 0\n"
     ]
    },
    {
     "name": "stderr",
     "output_type": "stream",
     "text": [
      "The following generation flags are not valid and may be ignored: ['early_stopping']. Set `TRANSFORMERS_VERBOSITY=info` for more details.\n",
      "Setting `pad_token_id` to `eos_token_id`:2 for open-end generation.\n"
     ]
    },
    {
     "name": "stdout",
     "output_type": "stream",
     "text": [
      "Writing 77 rows to ./raw/reviews_classified.csv, errors omitted: 0\n"
     ]
    },
    {
     "name": "stderr",
     "output_type": "stream",
     "text": [
      "The following generation flags are not valid and may be ignored: ['early_stopping']. Set `TRANSFORMERS_VERBOSITY=info` for more details.\n",
      "Setting `pad_token_id` to `eos_token_id`:2 for open-end generation.\n"
     ]
    },
    {
     "name": "stdout",
     "output_type": "stream",
     "text": [
      "Writing 80 rows to ./raw/reviews_classified.csv, errors omitted: 0\n"
     ]
    },
    {
     "name": "stderr",
     "output_type": "stream",
     "text": [
      "The following generation flags are not valid and may be ignored: ['early_stopping']. Set `TRANSFORMERS_VERBOSITY=info` for more details.\n",
      "Setting `pad_token_id` to `eos_token_id`:2 for open-end generation.\n"
     ]
    },
    {
     "name": "stdout",
     "output_type": "stream",
     "text": [
      "Writing 72 rows to ./raw/reviews_classified.csv, errors omitted: 0\n"
     ]
    },
    {
     "name": "stderr",
     "output_type": "stream",
     "text": [
      "The following generation flags are not valid and may be ignored: ['early_stopping']. Set `TRANSFORMERS_VERBOSITY=info` for more details.\n",
      "Setting `pad_token_id` to `eos_token_id`:2 for open-end generation.\n"
     ]
    },
    {
     "name": "stdout",
     "output_type": "stream",
     "text": [
      "Writing 74 rows to ./raw/reviews_classified.csv, errors omitted: 0\n"
     ]
    },
    {
     "name": "stderr",
     "output_type": "stream",
     "text": [
      "The following generation flags are not valid and may be ignored: ['early_stopping']. Set `TRANSFORMERS_VERBOSITY=info` for more details.\n",
      "Setting `pad_token_id` to `eos_token_id`:2 for open-end generation.\n"
     ]
    },
    {
     "name": "stdout",
     "output_type": "stream",
     "text": [
      "Writing 73 rows to ./raw/reviews_classified.csv, errors omitted: 0\n"
     ]
    },
    {
     "name": "stderr",
     "output_type": "stream",
     "text": [
      "The following generation flags are not valid and may be ignored: ['early_stopping']. Set `TRANSFORMERS_VERBOSITY=info` for more details.\n",
      "Setting `pad_token_id` to `eos_token_id`:2 for open-end generation.\n"
     ]
    },
    {
     "name": "stdout",
     "output_type": "stream",
     "text": [
      "Writing 59 rows to ./raw/reviews_classified.csv, errors omitted: 0\n"
     ]
    },
    {
     "name": "stderr",
     "output_type": "stream",
     "text": [
      "The following generation flags are not valid and may be ignored: ['early_stopping']. Set `TRANSFORMERS_VERBOSITY=info` for more details.\n",
      "Setting `pad_token_id` to `eos_token_id`:2 for open-end generation.\n"
     ]
    },
    {
     "name": "stdout",
     "output_type": "stream",
     "text": [
      "Writing 77 rows to ./raw/reviews_classified.csv, errors omitted: 0\n"
     ]
    },
    {
     "name": "stderr",
     "output_type": "stream",
     "text": [
      "The following generation flags are not valid and may be ignored: ['early_stopping']. Set `TRANSFORMERS_VERBOSITY=info` for more details.\n",
      "Setting `pad_token_id` to `eos_token_id`:2 for open-end generation.\n"
     ]
    },
    {
     "name": "stdout",
     "output_type": "stream",
     "text": [
      "Writing 78 rows to ./raw/reviews_classified.csv, errors omitted: 0\n"
     ]
    },
    {
     "name": "stderr",
     "output_type": "stream",
     "text": [
      "The following generation flags are not valid and may be ignored: ['early_stopping']. Set `TRANSFORMERS_VERBOSITY=info` for more details.\n",
      "Setting `pad_token_id` to `eos_token_id`:2 for open-end generation.\n"
     ]
    },
    {
     "name": "stdout",
     "output_type": "stream",
     "text": [
      "Writing 80 rows to ./raw/reviews_classified.csv, errors omitted: 0\n"
     ]
    },
    {
     "name": "stderr",
     "output_type": "stream",
     "text": [
      "The following generation flags are not valid and may be ignored: ['early_stopping']. Set `TRANSFORMERS_VERBOSITY=info` for more details.\n",
      "Setting `pad_token_id` to `eos_token_id`:2 for open-end generation.\n"
     ]
    },
    {
     "name": "stdout",
     "output_type": "stream",
     "text": [
      "Writing 79 rows to ./raw/reviews_classified.csv, errors omitted: 0\n"
     ]
    }
   ],
   "source": [
    "tokenizer = AutoTokenizer.from_pretrained(model_name)\n",
    "tokenizer.pad_token = tokenizer.eos_token\n",
    "model = AutoModelForCausalLM.from_pretrained(model_name, torch_dtype=torch.float16, device_map={\"\": 0})\n",
    "\n",
    "for batch in generate_prompts_grouped(\n",
    "    review_path=review_path,\n",
    "    location_path=location_path,\n",
    "    start=0,\n",
    "    end=50000,\n",
    "    max_group_prompt=16,\n",
    "    max_group_review=5\n",
    "):\n",
    "    prompts = [prompt for prompt, _ in batch]\n",
    "    groups = [group for _, group in batch]\n",
    "    inputs = tokenizer(prompts, return_tensors=\"pt\", padding=True).to(model.device)\n",
    "    outputs = model.generate(**inputs, max_new_tokens=48)\n",
    "\n",
    "    errors = 0\n",
    "    rows_to_write = []\n",
    "    for prompt_idx, output in enumerate(outputs):\n",
    "        output_str = tokenizer.decode(output, skip_special_tokens=True)\n",
    "        output_str = clean_output(prompts[prompt_idx], output_str)\n",
    "        labels = parse_list(output_str, len(groups[prompt_idx]))\n",
    "\n",
    "        if labels is None:\n",
    "            errors += 1\n",
    "            continue \n",
    "\n",
    "        for review, label in zip(groups[prompt_idx], labels):\n",
    "            rows_to_write.append({\n",
    "                \"name\": review.get(\"name\", \"\"),\n",
    "                \"rating\": review.get(\"rating\", \"\"),\n",
    "                \"text\": review.get(\"text\", \"\"),\n",
    "                \"resp\": review.get(\"resp\", \"\"),\n",
    "                \"gmap_id\": review.get(\"gmap_id\", \"\"),\n",
    "                \"label\": label,\n",
    "            })\n",
    "\n",
    "    print(f\"Writing {len(rows_to_write)} rows to {review_classification_path}, errors omitted: {errors}\")\n",
    "    reviews_to_csv(review_classification_path, rows_to_write)\n",
    "\n",
    "    del inputs, outputs\n",
    "    torch.cuda.empty_cache()\n",
    "\n",
    "print(f\"Classification complete. Results saved to {review_classification_path}\")"
   ]
  },
  {
   "cell_type": "code",
   "execution_count": 9,
   "id": "c4a3244f",
   "metadata": {},
   "outputs": [
    {
     "name": "stdout",
     "output_type": "stream",
     "text": [
      "Number of NaN 'text' rows: 13209\n",
      "Number of reviews labeled 1: 26822\n",
      "Number of reviews labeled 0: 2686\n"
     ]
    }
   ],
   "source": [
    "df = pd.read_csv(review_classification_path)\n",
    "\n",
    "nan_count = df[\"text\"].isna().sum()\n",
    "print(f\"Number of NaN 'text' rows: {nan_count}\")\n",
    "\n",
    "df = df.dropna(subset=[\"text\"])\n",
    "count_1 = (df[\"label\"] == 1.0).sum()\n",
    "count_0 = (df[\"label\"] == 0.0).sum()\n",
    "\n",
    "print(f\"Number of reviews labeled 1: {count_1}\")\n",
    "print(f\"Number of reviews labeled 0: {count_0}\")"
   ]
  },
  {
   "cell_type": "code",
   "execution_count": 11,
   "id": "961a7303",
   "metadata": {},
   "outputs": [],
   "source": [
    "positive_df = df[df[\"label\"] == 1.0][[\"text\", \"gmap_id\"]]\n",
    "positive_df.to_csv(\n",
    "    \"positive_reviews.csv\",\n",
    "    index=False,\n",
    "    encoding=\"utf-8\",\n",
    "    quoting=csv.QUOTE_ALL\n",
    ")"
   ]
  }
 ],
 "metadata": {
  "kernelspec": {
   "display_name": "Python 3",
   "language": "python",
   "name": "python3"
  },
  "language_info": {
   "codemirror_mode": {
    "name": "ipython",
    "version": 3
   },
   "file_extension": ".py",
   "mimetype": "text/x-python",
   "name": "python",
   "nbconvert_exporter": "python",
   "pygments_lexer": "ipython3",
   "version": "3.12.6"
  }
 },
 "nbformat": 4,
 "nbformat_minor": 5
}

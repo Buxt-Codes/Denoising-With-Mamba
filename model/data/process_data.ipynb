{
 "cells": [
  {
   "cell_type": "code",
   "execution_count": null,
   "id": "c03d8266",
   "metadata": {},
   "outputs": [],
   "source": [
    "import json\n",
    "\n",
    "location_path = \"./raw/meta-other.json\"\n",
    "review_path = \"./raw/reviews-other.json\""
   ]
  },
  {
   "cell_type": "code",
   "execution_count": null,
   "id": "fb175703",
   "metadata": {},
   "outputs": [],
   "source": [
    "def load_location_dict(path):\n",
    "    meta = {}\n",
    "    drop_keys = {\"latitude\", \"longitude\", \"url\"}\n",
    "    with open(path, \"r\", encoding=\"utf-8\") as f:\n",
    "        for line in f:\n",
    "            obj = json.loads(line)\n",
    "            for key in drop_keys:\n",
    "                obj.pop(key, None)\n",
    "            meta[obj[\"location_id\"]] = obj\n",
    "    return meta\n",
    "\n",
    "def load_reviews_dict(path):\n",
    "    meta = []\n",
    "    drop_keys = {\"user_id\", \"time\"}\n",
    "    with open(path, \"r\", encoding=\"utf-8\") as f:\n",
    "        for line in f:\n",
    "            obj = json.loads(line)\n",
    "            for key in drop_keys:\n",
    "                obj.pop(key, None)\n",
    "            meta.append(obj)\n",
    "    return meta\n",
    "\n",
    "def load_reviews_gen(path, start=0, end=1000):\n",
    "    drop_keys = {\"user_id\", \"time\"}\n",
    "    with open(path, \"r\", encoding=\"utf-8\") as f:\n",
    "        for i, line in enumerate(f):\n",
    "            if i < start:\n",
    "                continue\n",
    "            if end is not None and i >= end:\n",
    "                break\n",
    "            obj = json.loads(line)\n",
    "            for key in drop_keys:\n",
    "                obj.pop(key, None)\n",
    "            yield obj"
   ]
  }
 ],
 "metadata": {
  "language_info": {
   "name": "python"
  }
 },
 "nbformat": 4,
 "nbformat_minor": 5
}

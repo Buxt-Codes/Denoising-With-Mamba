{
 "cells": [
  {
   "cell_type": "code",
   "execution_count": null,
   "id": "c03d8266",
   "metadata": {},
   "outputs": [],
   "source": [
    "import json\n",
    "from vllm import LLM, SamplingParams\n",
    "\n",
    "location_path = \"./raw/meta-other.json\"\n",
    "review_path = \"./raw/reviews-other.json\"\n",
    "model_name = \"mistralai/Mistral-7B-Instruct-v0.2\""
   ]
  },
  {
   "cell_type": "code",
   "execution_count": null,
   "id": "fb175703",
   "metadata": {},
   "outputs": [],
   "source": [
    "def load_location_dict(path):\n",
    "    meta = {}\n",
    "    drop_keys = {\"latitude\", \"longitude\", \"url\"}\n",
    "    with open(path, \"r\", encoding=\"utf-8\") as f:\n",
    "        for line in f:\n",
    "            obj = json.loads(line)\n",
    "            for key in drop_keys:\n",
    "                obj.pop(key, None)\n",
    "            meta[obj[\"location_id\"]] = obj\n",
    "    return meta\n",
    "\n",
    "def load_reviews_dict(path):\n",
    "    meta = []\n",
    "    drop_keys = {\"user_id\", \"time\"}\n",
    "    with open(path, \"r\", encoding=\"utf-8\") as f:\n",
    "        for line in f:\n",
    "            obj = json.loads(line)\n",
    "            for key in drop_keys:\n",
    "                obj.pop(key, None)\n",
    "            meta.append(obj)\n",
    "    return meta\n",
    "\n",
    "def load_reviews_gen(path, start=0, end=1000):\n",
    "    drop_keys = {\"user_id\", \"time\"}\n",
    "    with open(path, \"r\", encoding=\"utf-8\") as f:\n",
    "        for i, line in enumerate(f):\n",
    "            if i < start:\n",
    "                continue\n",
    "            if end is not None and i >= end:\n",
    "                break\n",
    "            obj = json.loads(line)\n",
    "            for key in drop_keys:\n",
    "                obj.pop(key, None)\n",
    "            yield obj"
   ]
  },
  {
   "cell_type": "code",
   "execution_count": null,
   "id": "137ad5f5",
   "metadata": {},
   "outputs": [],
   "source": [
    "llm = LLM(\n",
    "    model=model_name,\n",
    "    tensor_parallel_size=1,   \n",
    "    dtype=\"fp16\",              \n",
    "    device=\"cuda\"  \n",
    ")"
   ]
  }
 ],
 "metadata": {
  "language_info": {
   "name": "python"
  }
 },
 "nbformat": 4,
 "nbformat_minor": 5
}

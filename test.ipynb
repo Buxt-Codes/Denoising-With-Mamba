{
 "cells": [
  {
   "cell_type": "code",
   "execution_count": 2,
   "id": "231e97b5",
   "metadata": {},
   "outputs": [
    {
     "name": "stdout",
     "output_type": "stream",
     "text": [
      "Model state_dict saved separately at: C:\\Users\\ian\\Desktop\\Coding\\ReviewClassification\\model\\review_classifier\\decoder\\mamba_model\\multi_classification_decoder.pt\n"
     ]
    },
    {
     "name": "stderr",
     "output_type": "stream",
     "text": [
      "C:\\Users\\ian\\AppData\\Local\\Temp\\ipykernel_23712\\2303908818.py:12: FutureWarning: You are using `torch.load` with `weights_only=False` (the current default value), which uses the default pickle module implicitly. It is possible to construct malicious pickle data which will execute arbitrary code during unpickling (See https://github.com/pytorch/pytorch/blob/main/SECURITY.md#untrusted-models for more details). In a future release, the default value for `weights_only` will be flipped to `True`. This limits the functions that could be executed during unpickling. Arbitrary objects will no longer be allowed to be loaded via this mode unless they are explicitly allowlisted by the user via `torch.serialization.add_safe_globals`. We recommend you start setting `weights_only=True` for any use case where you don't have full control of the loaded file. Please open an issue on GitHub for any issues related to this experimental feature.\n",
      "  checkpoint = torch.load(checkpoint_path, map_location=\"cpu\")\n"
     ]
    }
   ],
   "source": [
    "import torch\n",
    "import os\n",
    "\n",
    "def extract_and_save_model_state(checkpoint_path: str, save_path: str):\n",
    "    \"\"\"\n",
    "    Loads a checkpoint and extracts the decoder's state dict,\n",
    "    then saves it separately for later use.\n",
    "    \"\"\"\n",
    "    if not os.path.exists(checkpoint_path):\n",
    "        raise FileNotFoundError(f\"Checkpoint not found: {checkpoint_path}\")\n",
    "    \n",
    "    checkpoint = torch.load(checkpoint_path, map_location=\"cpu\")\n",
    "    \n",
    "    if \"decoder_state_dict\" not in checkpoint:\n",
    "        raise KeyError(\"decoder_state_dict not found in the checkpoint.\")\n",
    "    \n",
    "    model_state_dict = checkpoint[\"decoder_state_dict\"]\n",
    "    \n",
    "    torch.save(model_state_dict, save_path)\n",
    "    print(f\"Model state_dict saved separately at: {save_path}\")\n",
    "\n",
    "\n",
    "# Example usage\n",
    "checkpoint_file = r\"C:\\Users\\ian\\Desktop\\Coding\\ReviewClassification\\model\\weights\\cross_attn\\MambaDecoder_20250830_234949\\checkpoint_epoch_15.pt\"\n",
    "model_state_file = r\"C:\\Users\\ian\\Desktop\\Coding\\ReviewClassification\\model\\review_classifier\\decoder\\mamba_model\\multi_classification_decoder.pt\"\n",
    "\n",
    "extract_and_save_model_state(checkpoint_file, model_state_file)\n"
   ]
  }
 ],
 "metadata": {
  "kernelspec": {
   "display_name": "Python 3",
   "language": "python",
   "name": "python3"
  },
  "language_info": {
   "codemirror_mode": {
    "name": "ipython",
    "version": 3
   },
   "file_extension": ".py",
   "mimetype": "text/x-python",
   "name": "python",
   "nbconvert_exporter": "python",
   "pygments_lexer": "ipython3",
   "version": "3.12.6"
  }
 },
 "nbformat": 4,
 "nbformat_minor": 5
}
